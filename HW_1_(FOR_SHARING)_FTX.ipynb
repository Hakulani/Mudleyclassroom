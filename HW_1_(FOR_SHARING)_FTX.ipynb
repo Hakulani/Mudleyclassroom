{
  "nbformat": 4,
  "nbformat_minor": 0,
  "metadata": {
    "colab": {
      "name": "HW 1 (FOR SHARING) : FTX.ipynb",
      "provenance": [],
      "collapsed_sections": []
    },
    "kernelspec": {
      "name": "python3",
      "display_name": "Python 3"
    }
  },
  "cells": [
    {
      "cell_type": "code",
      "metadata": {
        "id": "OknQFdg89GUS",
        "colab": {
          "base_uri": "https://localhost:8080/",
          "height": 781
        },
        "outputId": "35f9e3ed-5486-4659-80e7-1a9431612a5d"
      },
      "source": [
        "#TEERACHAI RATTANABUNDITSAKUL\n",
        "#Credit1 : Nattapon Soomtha (กองทุนความมั่งคั่งแห่งชาติ Training)\n",
        "#Credit2 : b2 spetsnaz club\n",
        "\n",
        "#----------------------------------------------------------------\n",
        "\n",
        "# 1.Install library ที่เราจำเป็นจะต้องใช้ในการส่งคำสั่งและการตรวจเช็คออเดอร์\n",
        "# - ccxt library ที่เป็นที่นิยมในการเชื่อม API กับ Exchange ต่างๆได้ง่ายขึ้นมาก\n",
        "# - pandas library จะช่วยในการแปลงข้อมูลที่เราดึงมาจาก Exchange แปลงให้\n",
        "#   เป็นตารางเพื่อให้ง่ายต่อการตรวจสอบออเดอร์\n",
        "# - json จะใช้สำหรับการดึงข้อมูลที่เราต้องการมาจาก Exchange\n",
        "\n",
        "!pip install ccxt\n",
        "!pip install pandas"
      ],
      "execution_count": null,
      "outputs": [
        {
          "output_type": "stream",
          "text": [
            "Collecting ccxt\n",
            "\u001b[?25l  Downloading https://files.pythonhosted.org/packages/27/a1/3db5b22e01c5b30d6da7e3c2913a8db3f4d7bcc35d9a17b858aa0c6f5150/ccxt-1.30.2-py2.py3-none-any.whl (1.7MB)\n",
            "\u001b[K     |████████████████████████████████| 1.7MB 4.5MB/s \n",
            "\u001b[?25hRequirement already satisfied: setuptools>=38.5.1 in /usr/local/lib/python3.6/dist-packages (from ccxt) (47.1.1)\n",
            "Collecting aiodns==1.1.1; python_version >= \"3.5.2\"\n",
            "  Downloading https://files.pythonhosted.org/packages/bd/f5/b69cb930fd5ab0569396659afe3f3c0d37d4098e5d0ba6afdf6fd9388cb0/aiodns-1.1.1-py2.py3-none-any.whl\n",
            "Collecting yarl==1.1.0; python_version >= \"3.5.2\"\n",
            "\u001b[?25l  Downloading https://files.pythonhosted.org/packages/9a/fe/1fc0d9e277f1ff0d29ac44742f769c55f12cc7e66a89ab340f5321937179/yarl-1.1.0-cp36-cp36m-manylinux1_x86_64.whl (255kB)\n",
            "\u001b[K     |████████████████████████████████| 256kB 33.6MB/s \n",
            "\u001b[?25hRequirement already satisfied: certifi>=2018.1.18 in /usr/local/lib/python3.6/dist-packages (from ccxt) (2020.4.5.1)\n",
            "Requirement already satisfied: requests>=2.18.4 in /usr/local/lib/python3.6/dist-packages (from ccxt) (2.23.0)\n",
            "Collecting cryptography>=2.6.1\n",
            "\u001b[?25l  Downloading https://files.pythonhosted.org/packages/3c/04/686efee2dcdd25aecf357992e7d9362f443eb182ecd623f882bc9f7a6bba/cryptography-2.9.2-cp35-abi3-manylinux2010_x86_64.whl (2.7MB)\n",
            "\u001b[K     |████████████████████████████████| 2.7MB 33.1MB/s \n",
            "\u001b[?25hCollecting aiohttp==3.6.2; python_version >= \"3.5.2\"\n",
            "\u001b[?25l  Downloading https://files.pythonhosted.org/packages/7c/39/7eb5f98d24904e0f6d3edb505d4aa60e3ef83c0a58d6fe18244a51757247/aiohttp-3.6.2-cp36-cp36m-manylinux1_x86_64.whl (1.2MB)\n",
            "\u001b[K     |████████████████████████████████| 1.2MB 48.3MB/s \n",
            "\u001b[?25hCollecting pycares>=1.0.0\n",
            "\u001b[?25l  Downloading https://files.pythonhosted.org/packages/43/2d/7f4984a23f6e99cf6a8b20ddc59308efb209fe81e79c97af65e9b30eefae/pycares-3.1.1-cp36-cp36m-manylinux2010_x86_64.whl (228kB)\n",
            "\u001b[K     |████████████████████████████████| 235kB 50.5MB/s \n",
            "\u001b[?25hCollecting multidict>=4.0\n",
            "\u001b[?25l  Downloading https://files.pythonhosted.org/packages/1a/95/f50352b5366e7d579e8b99631680a9e32e1b22adfa1629a8f23b1d22d5e2/multidict-4.7.6-cp36-cp36m-manylinux1_x86_64.whl (148kB)\n",
            "\u001b[K     |████████████████████████████████| 153kB 50.3MB/s \n",
            "\u001b[?25hRequirement already satisfied: idna>=2.0 in /usr/local/lib/python3.6/dist-packages (from yarl==1.1.0; python_version >= \"3.5.2\"->ccxt) (2.9)\n",
            "Requirement already satisfied: urllib3!=1.25.0,!=1.25.1,<1.26,>=1.21.1 in /usr/local/lib/python3.6/dist-packages (from requests>=2.18.4->ccxt) (1.24.3)\n",
            "Requirement already satisfied: chardet<4,>=3.0.2 in /usr/local/lib/python3.6/dist-packages (from requests>=2.18.4->ccxt) (3.0.4)\n",
            "Requirement already satisfied: six>=1.4.1 in /usr/local/lib/python3.6/dist-packages (from cryptography>=2.6.1->ccxt) (1.12.0)\n",
            "Requirement already satisfied: cffi!=1.11.3,>=1.8 in /usr/local/lib/python3.6/dist-packages (from cryptography>=2.6.1->ccxt) (1.14.0)\n",
            "Requirement already satisfied: attrs>=17.3.0 in /usr/local/lib/python3.6/dist-packages (from aiohttp==3.6.2; python_version >= \"3.5.2\"->ccxt) (19.3.0)\n",
            "Collecting async-timeout<4.0,>=3.0\n",
            "  Downloading https://files.pythonhosted.org/packages/e1/1e/5a4441be21b0726c4464f3f23c8b19628372f606755a9d2e46c187e65ec4/async_timeout-3.0.1-py3-none-any.whl\n",
            "Collecting idna-ssl>=1.0; python_version < \"3.7\"\n",
            "  Downloading https://files.pythonhosted.org/packages/46/03/07c4894aae38b0de52b52586b24bf189bb83e4ddabfe2e2c8f2419eec6f4/idna-ssl-1.1.0.tar.gz\n",
            "Requirement already satisfied: typing-extensions>=3.6.5; python_version < \"3.7\" in /usr/local/lib/python3.6/dist-packages (from aiohttp==3.6.2; python_version >= \"3.5.2\"->ccxt) (3.6.6)\n",
            "Requirement already satisfied: pycparser in /usr/local/lib/python3.6/dist-packages (from cffi!=1.11.3,>=1.8->cryptography>=2.6.1->ccxt) (2.20)\n",
            "Building wheels for collected packages: idna-ssl\n",
            "  Building wheel for idna-ssl (setup.py) ... \u001b[?25l\u001b[?25hdone\n",
            "  Created wheel for idna-ssl: filename=idna_ssl-1.1.0-cp36-none-any.whl size=3162 sha256=6770dc54e54abe69fc6fd7478b1453bdcfd211dbc13a5799a064e0ee5c354bcb\n",
            "  Stored in directory: /root/.cache/pip/wheels/d3/00/b3/32d613e19e08a739751dd6bf998cfed277728f8b2127ad4eb7\n",
            "Successfully built idna-ssl\n",
            "Installing collected packages: pycares, aiodns, multidict, yarl, cryptography, async-timeout, idna-ssl, aiohttp, ccxt\n",
            "Successfully installed aiodns-1.1.1 aiohttp-3.6.2 async-timeout-3.0.1 ccxt-1.30.2 cryptography-2.9.2 idna-ssl-1.1.0 multidict-4.7.6 pycares-3.1.1 yarl-1.1.0\n",
            "Requirement already satisfied: pandas in /usr/local/lib/python3.6/dist-packages (1.0.4)\n",
            "Requirement already satisfied: pytz>=2017.2 in /usr/local/lib/python3.6/dist-packages (from pandas) (2018.9)\n",
            "Requirement already satisfied: numpy>=1.13.3 in /usr/local/lib/python3.6/dist-packages (from pandas) (1.18.5)\n",
            "Requirement already satisfied: python-dateutil>=2.6.1 in /usr/local/lib/python3.6/dist-packages (from pandas) (2.8.1)\n",
            "Requirement already satisfied: six>=1.5 in /usr/local/lib/python3.6/dist-packages (from python-dateutil>=2.6.1->pandas) (1.12.0)\n"
          ],
          "name": "stdout"
        }
      ]
    },
    {
      "cell_type": "code",
      "metadata": {
        "id": "bsIQYvnJ0Qao",
        "colab": {
          "base_uri": "https://localhost:8080/",
          "height": 353
        },
        "outputId": "ea08b5e2-f3a4-4609-f392-89eda0f2c8d2"
      },
      "source": [
        "# 2.Import library ที่เราจะต้องใช้งาน\n",
        "import ccxt\n",
        "import json\n",
        "import pandas as pd\n",
        "\n",
        "# 2.1 กำหนด Parameter สำหรับเก็บ apiKey และ secret\n",
        "apiKey = \"api\"      #ขอจาก Exchange\n",
        "secret = \"secret\"   #ขอจาก Exchange\n",
        "\n",
        "# 2.2 รวมข้อมูลของ apiKey และ secret สำหรับเอาไว้เรียกใช้งาน\n",
        "exchange = ccxt.ftx({\n",
        "    'apiKey' : apiKey ,'secret' : secret ,'enableRateLimit': True\n",
        "})\n",
        "\n",
        "# 2.3 กรณีที่ใช้งาน SUB-ACCOUNT จะต้องกำหนดชื่อลงไปด้วย\n",
        "#exchange.headers = {\n",
        "#    'FTX-SUBACCOUNT': 'Eleph',\n",
        "#}\n",
        "\n",
        "# 2.4 ใช้ json ในการดึงข้อมูลราคา PRODUCT ที่เราสนใจจะเทรด\n",
        "r1 = json.dumps(exchange.fetch_ticker('BTC-PERP'))\n",
        "dataPriceBTC = json.loads(r1)\n",
        "\n",
        "# 2.5 ทดลอง PRINT ข้อมูลที่ได้ออกมาดูว่าตรงหรือเปล่า\n",
        "print(exchange)\n",
        "print('BTC/USD =',dataPriceBTC['last'])"
      ],
      "execution_count": null,
      "outputs": [
        {
          "output_type": "error",
          "ename": "ModuleNotFoundError",
          "evalue": "ignored",
          "traceback": [
            "\u001b[0;31m---------------------------------------------------------------------------\u001b[0m",
            "\u001b[0;31mModuleNotFoundError\u001b[0m                       Traceback (most recent call last)",
            "\u001b[0;32m<ipython-input-1-37ba2c912965>\u001b[0m in \u001b[0;36m<module>\u001b[0;34m()\u001b[0m\n\u001b[1;32m      1\u001b[0m \u001b[0;31m# 2.Import library ที่เราจะต้องใช้งาน\u001b[0m\u001b[0;34m\u001b[0m\u001b[0;34m\u001b[0m\u001b[0;34m\u001b[0m\u001b[0m\n\u001b[0;32m----> 2\u001b[0;31m \u001b[0;32mimport\u001b[0m \u001b[0mccxt\u001b[0m\u001b[0;34m\u001b[0m\u001b[0;34m\u001b[0m\u001b[0m\n\u001b[0m\u001b[1;32m      3\u001b[0m \u001b[0;32mimport\u001b[0m \u001b[0mjson\u001b[0m\u001b[0;34m\u001b[0m\u001b[0;34m\u001b[0m\u001b[0m\n\u001b[1;32m      4\u001b[0m \u001b[0;32mimport\u001b[0m \u001b[0mpandas\u001b[0m \u001b[0;32mas\u001b[0m \u001b[0mpd\u001b[0m\u001b[0;34m\u001b[0m\u001b[0;34m\u001b[0m\u001b[0m\n\u001b[1;32m      5\u001b[0m \u001b[0;34m\u001b[0m\u001b[0m\n",
            "\u001b[0;31mModuleNotFoundError\u001b[0m: No module named 'ccxt'",
            "",
            "\u001b[0;31m---------------------------------------------------------------------------\u001b[0;32m\nNOTE: If your import is failing due to a missing package, you can\nmanually install dependencies using either !pip or !apt.\n\nTo view examples of installing some common dependencies, click the\n\"Open Examples\" button below.\n\u001b[0;31m---------------------------------------------------------------------------\u001b[0m\n"
          ]
        }
      ]
    },
    {
      "cell_type": "code",
      "metadata": {
        "id": "ytP0Q6f7s5GH",
        "colab": {
          "base_uri": "https://localhost:8080/",
          "height": 53
        },
        "outputId": "6b4ad4d6-f28b-432d-e0b2-b26625df39f3"
      },
      "source": [
        "# 3.ตรวจเช็คคำสั่งในการใช้งานว่า FTX อนุญาตให้เราใช้คำสั่งอะไรบ้าง\n",
        "id = 'ftx'\n",
        "exchange = getattr(ccxt, id) ()\n",
        "print(exchange.has)"
      ],
      "execution_count": null,
      "outputs": [
        {
          "output_type": "stream",
          "text": [
            "{'loadMarkets': True, 'cancelAllOrders': True, 'cancelOrder': True, 'cancelOrders': False, 'CORS': False, 'createDepositAddress': False, 'createLimitOrder': True, 'createMarketOrder': True, 'createOrder': True, 'deposit': False, 'editOrder': 'emulated', 'fetchBalance': True, 'fetchClosedOrders': False, 'fetchCurrencies': True, 'fetchDepositAddress': True, 'fetchDeposits': True, 'fetchL2OrderBook': True, 'fetchLedger': False, 'fetchMarkets': True, 'fetchMyTrades': True, 'fetchOHLCV': True, 'fetchOpenOrders': True, 'fetchOrder': True, 'fetchOrderBook': True, 'fetchOrderBooks': False, 'fetchOrders': True, 'fetchOrderTrades': False, 'fetchStatus': 'emulated', 'fetchTicker': True, 'fetchTickers': True, 'fetchTime': False, 'fetchTrades': True, 'fetchTradingFee': False, 'fetchTradingFees': True, 'fetchFundingFee': False, 'fetchFundingFees': False, 'fetchTradingLimits': False, 'fetchTransactions': False, 'fetchWithdrawals': True, 'privateAPI': True, 'publicAPI': True, 'withdraw': True}\n"
          ],
          "name": "stdout"
        }
      ]
    },
    {
      "cell_type": "code",
      "metadata": {
        "id": "bwlDRjgY0X13"
      },
      "source": [
        "# 4.ตรวจเช็ค BALANCE ของ PORTFOLIO\n",
        "print(\"PORT BALANCE =\",exchange.fetch_balance())"
      ],
      "execution_count": null,
      "outputs": []
    },
    {
      "cell_type": "code",
      "metadata": {
        "id": "TUWDp2mttHBt",
        "colab": {
          "base_uri": "https://localhost:8080/",
          "height": 53
        },
        "outputId": "6267d833-9e37-41e0-8c1f-600b98ad56c4"
      },
      "source": [
        "# 5.ตรวจเช็ค PRODUCT ที่สามารถเทรดได้\n",
        "print(\"PRODUCT =\",exchange.symbols)"
      ],
      "execution_count": null,
      "outputs": [
        {
          "output_type": "stream",
          "text": [
            "PRODUCT = ['ADA-0626', 'ADA-0925', 'ADA-PERP', 'ADABEAR/USD', 'ADABULL/USD', 'ADAHALF/USD', 'ADAHALF/USDT', 'ADAHEDGE/USD', 'ALGO-0626', 'ALGO-0925', 'ALGO-PERP', 'ALGOBEAR/USD', 'ALGOBULL/USD', 'ALGOHALF/USD', 'ALGOHALF/USDT', 'ALGOHEDGE/USD', 'ALT-0626', 'ALT-0925', 'ALT-PERP', 'ALTBEAR/USD', 'ALTBULL/USD', 'ALTHALF/USD', 'ALTHALF/USDT', 'ALTHEDGE/USD', 'ATOM-0626', 'ATOM-0925', 'ATOM-PERP', 'ATOMBEAR/USD', 'ATOMBULL/USD', 'ATOMHALF/USD', 'ATOMHALF/USDT', 'ATOMHEDGE/USD', 'BCH-0626', 'BCH-0925', 'BCH-PERP', 'BCH/USD', 'BCH/USDT', 'BCHBEAR/USD', 'BCHBEAR/USDT', 'BCHBULL/USD', 'BCHBULL/USDT', 'BCHHALF/USD', 'BCHHALF/USDT', 'BCHHEDGE/USD', 'BEAR/USD', 'BEAR/USDT', 'BEARSHIT/USD', 'BERNIE', 'BIDEN', 'BLOOMBERG', 'BNB-0626', 'BNB-0925', 'BNB-PERP', 'BNB/USD', 'BNB/USDT', 'BNBBEAR/USD', 'BNBBEAR/USDT', 'BNBBULL/USD', 'BNBBULL/USDT', 'BNBHALF/USD', 'BNBHALF/USDT', 'BNBHEDGE/USD', 'BRL/USD', 'BRL/USDT', 'BRZ-0626', 'BRZ-0925', 'BRZ-PERP', 'BSV-0626', 'BSV-0925', 'BSV-PERP', 'BSVBEAR/USD', 'BSVBEAR/USDT', 'BSVBULL/USD', 'BSVBULL/USDT', 'BSVHALF/USD', 'BSVHALF/USDT', 'BSVHEDGE/USD', 'BTC-0626', 'BTC-0925', 'BTC-1225', 'BTC-HASH-2020Q3', 'BTC-HASH-2020Q4', 'BTC-HASH-2021Q1', 'BTC-MOVE-0615', 'BTC-MOVE-0616', 'BTC-MOVE-2020Q2', 'BTC-MOVE-2020Q3', 'BTC-MOVE-2020Q4', 'BTC-MOVE-WK-0619', 'BTC-MOVE-WK-0626', 'BTC-MOVE-WK-0703', 'BTC-MOVE-WK-0710', 'BTC-PERP', 'BTC/BRL', 'BTC/USD', 'BTC/USDT', 'BTMX-0626', 'BTMX-0925', 'BTMX-PERP', 'BTMX/USD', 'BTMXBEAR/USD', 'BTMXBEAR/USDT', 'BTMXBULL/USD', 'BTMXBULL/USDT', 'BTMXHALF/USD', 'BTMXHALF/USDT', 'BTMXHEDGE/USD', 'BULL/USD', 'BULL/USDT', 'BULLSHIT/USD', 'BVOL/USD', 'BVOL/USDT', 'DOGE-0626', 'DOGE-0925', 'DOGE-PERP', 'DOGEBEAR/USD', 'DOGEBULL/USD', 'DOGEHALF/USD', 'DOGEHALF/USDT', 'DOGEHEDGE/USD', 'DRGN-0626', 'DRGN-0925', 'DRGN-PERP', 'DRGNBEAR/USD', 'DRGNBULL/USD', 'DRGNHALF/USD', 'DRGNHALF/USDT', 'DRGNHEDGE/USD', 'EOS-0626', 'EOS-0925', 'EOS-PERP', 'EOSBEAR/USD', 'EOSBEAR/USDT', 'EOSBULL/USD', 'EOSBULL/USDT', 'EOSHALF/USD', 'EOSHALF/USDT', 'EOSHEDGE/USD', 'ETC-0626', 'ETC-0925', 'ETC-PERP', 'ETCBEAR/USD', 'ETCBULL/USD', 'ETCHALF/USD', 'ETCHALF/USDT', 'ETCHEDGE/USD', 'ETH-0626', 'ETH-0925', 'ETH-PERP', 'ETH/BTC', 'ETH/USD', 'ETH/USDT', 'ETHBEAR/USD', 'ETHBEAR/USDT', 'ETHBULL/USD', 'ETHBULL/USDT', 'ETHHALF/USD', 'ETHHALF/USDT', 'ETHHEDGE/USD', 'EXCH-0626', 'EXCH-0925', 'EXCH-PERP', 'EXCHBEAR/USD', 'EXCHBULL/USD', 'EXCHHALF/USD', 'EXCHHALF/USDT', 'EXCHHEDGE/USD', 'FTT/BTC', 'FTT/USD', 'FTT/USDT', 'HALF/USD', 'HALF/USDT', 'HALFSHIT/USD', 'HALFSHIT/USDT', 'HEDGE/USD', 'HEDGESHIT/USD', 'HT-0626', 'HT-0925', 'HT-PERP', 'HTBEAR/USD', 'HTBULL/USD', 'HTHALF/USD', 'HTHALF/USDT', 'HTHEDGE/USD', 'IBVOL/USD', 'IBVOL/USDT', 'KNC-0626', 'KNC-0925', 'KNC-PERP', 'KNC/USD', 'KNC/USDT', 'KNCBEAR/USD', 'KNCBEAR/USDT', 'KNCBULL/USD', 'KNCBULL/USDT', 'KNCHALF/USD', 'KNCHEDGE/USD', 'LEO-0626', 'LEO-0925', 'LEO-PERP', 'LEOBEAR/USD', 'LEOBULL/USD', 'LEOHALF/USD', 'LEOHALF/USDT', 'LEOHEDGE/USD', 'LINK-0626', 'LINK-0925', 'LINK-PERP', 'LINK/USD', 'LINK/USDT', 'LINKBEAR/USD', 'LINKBEAR/USDT', 'LINKBULL/USD', 'LINKBULL/USDT', 'LINKHALF/USD', 'LINKHALF/USDT', 'LINKHEDGE/USD', 'LTC-0626', 'LTC-0925', 'LTC-PERP', 'LTC/USD', 'LTC/USDT', 'LTCBEAR/USD', 'LTCBEAR/USDT', 'LTCBULL/USD', 'LTCBULL/USDT', 'LTCHALF/USD', 'LTCHALF/USDT', 'LTCHEDGE/USD', 'MATIC-0626', 'MATIC-0925', 'MATIC-PERP', 'MATICBEAR/USD', 'MATICBULL/USD', 'MATICHALF/USD', 'MATICHALF/USDT', 'MATICHEDGE/USD', 'MID-0626', 'MID-0925', 'MID-PERP', 'MIDBEAR/USD', 'MIDBULL/USD', 'MIDHALF/USD', 'MIDHALF/USDT', 'MIDHEDGE/USD', 'OIL100-0629', 'OKB-0626', 'OKB-0925', 'OKB-PERP', 'OKBBEAR/USD', 'OKBBULL/USD', 'OKBHALF/USD', 'OKBHALF/USDT', 'OKBHEDGE/USD', 'PAXG-0626', 'PAXG-0925', 'PAXG-PERP', 'PAXG/USD', 'PAXG/USDT', 'PAXGBEAR/USD', 'PAXGBULL/USD', 'PAXGHALF/USD', 'PAXGHALF/USDT', 'PAXGHEDGE/USD', 'PETE', 'PRIV-0626', 'PRIV-0925', 'PRIV-PERP', 'PRIVBEAR/USD', 'PRIVBULL/USD', 'PRIVHALF/USD', 'PRIVHALF/USDT', 'PRIVHEDGE/USD', 'SHIT-0626', 'SHIT-0925', 'SHIT-PERP', 'THETA-0626', 'THETA-0925', 'THETA-PERP', 'THETABEAR/USD', 'THETABULL/USD', 'THETAHALF/USD', 'THETAHALF/USDT', 'THETAHEDGE/USD', 'TOMO-0626', 'TOMO-0925', 'TOMO-PERP', 'TOMOBEAR/USD', 'TOMOBULL/USD', 'TOMOHALF/USD', 'TOMOHALF/USDT', 'TOMOHEDGE/USD', 'TRUMP', 'TRX-0626', 'TRX-0925', 'TRX-PERP', 'TRX/USD', 'TRX/USDT', 'TRXBEAR/USD', 'TRXBULL/USD', 'TRXHALF/USD', 'TRXHALF/USDT', 'TRXHEDGE/USD', 'TRYB-0626', 'TRYB-0925', 'TRYB-PERP', 'TRYB/USD', 'TRYBBEAR/USD', 'TRYBBULL/USD', 'TRYBHALF/USD', 'TRYBHALF/USDT', 'TRYBHEDGE/USD', 'USDT-0626', 'USDT-0925', 'USDT-PERP', 'USDT/USD', 'USDTBEAR/USD', 'USDTBULL/USD', 'USDTHALF/USD', 'USDTHALF/USDT', 'USDTHEDGE/USD', 'WARREN', 'WRX/USD', 'WRX/USDT', 'XAUT-0626', 'XAUT-0925', 'XAUT-PERP', 'XAUT/USD', 'XAUT/USDT', 'XAUTBEAR/USD', 'XAUTBULL/USD', 'XAUTHALF/USD', 'XAUTHALF/USDT', 'XAUTHEDGE/USD', 'XRP-0626', 'XRP-0925', 'XRP-PERP', 'XRPBEAR/USD', 'XRPBEAR/USDT', 'XRPBULL/USD', 'XRPBULL/USDT', 'XRPHALF/USD', 'XRPHALF/USDT', 'XRPHEDGE/USD', 'XTZ-0626', 'XTZ-0925', 'XTZ-PERP', 'XTZBEAR/USD', 'XTZBEAR/USDT', 'XTZBULL/USD', 'XTZBULL/USDT', 'XTZHALF/USD', 'XTZHALF/USDT', 'XTZHEDGE/USD']\n"
          ],
          "name": "stdout"
        }
      ]
    },
    {
      "cell_type": "code",
      "metadata": {
        "id": "qN04xpK10aBL"
      },
      "source": [
        "# 6.การส่งคำสั่ง OPEN/CLOSE ORDER\n",
        "# 6.1 กำหนดค่าให้ตัวแปร เวลาเปลี่ยนคำสั่งให้เปลี่ยนตรงนี้\n",
        "\n",
        "pair = \"BTC/USD\"        # PRODUCT ที่เราต้องการเทรด\n",
        "types = 'limit'         # ประเภทของคำสั่ง\n",
        "side = 'buy'            # กำหนดฝั่ง BUY/SELL\n",
        "usd = 300               # กรณี Rebalance และต้องกรอกเป็น USD\n",
        "price = 7000            # ระดับราคาที่ต้องการ\n",
        "size_order = usd/price  # ใส่ขนาดเป็น BTC, ถ้า Rebalance ให้ใส่เป็น usd/price\n",
        "                        # แล้วไปกรอกในตัวแปร usd แทน\n",
        "reduceOnly = False      # ปิดโพซิชั่นเท่าจำนวนที่มีเท่านั้น (CREDIT : TY)\n",
        "postOnly =  False       # วางโพซิชั่นเป็น MAKER เท่านั้\n",
        "ioc = False             # immidate or cancel เช่น ส่งคำสั่งไป Long 1000 market \n",
        "                        # ถ้าไม่ได้ 1000 ก็ไม่เอา เช่นอาจจะเป็น 500 สองตัวก็ไม่เอา\n",
        "\n",
        "# 6.2 นำตัวแปลมาใส่ FUNCTION เพื่อส่งคำสั่งไปยัง EXCHANGE\n",
        "exchange.create_order(pair, types , side, size_order, price)"
      ],
      "execution_count": null,
      "outputs": []
    },
    {
      "cell_type": "code",
      "metadata": {
        "id": "NSmao_MK0dA2",
        "colab": {
          "base_uri": "https://localhost:8080/",
          "height": 33
        },
        "outputId": "5e4aca71-d89f-44e3-d992-deb07a196cd1"
      },
      "source": [
        "# 7.การยกเลิกคำสั่งในกรณืที่เรา PENDING ORDER\n",
        "exchange.cancel_order('5949078737')"
      ],
      "execution_count": null,
      "outputs": [
        {
          "output_type": "execute_result",
          "data": {
            "text/plain": [
              "'Order queued for cancellation'"
            ]
          },
          "metadata": {
            "tags": []
          },
          "execution_count": 31
        }
      ]
    },
    {
      "cell_type": "code",
      "metadata": {
        "id": "qkz-QWRj2Ish",
        "colab": {
          "base_uri": "https://localhost:8080/",
          "height": 570
        },
        "outputId": "789a3857-3a94-499b-9ff0-8852c3e1c343"
      },
      "source": [
        "# 8.การตรวจเช็คออเดอร์ที่ เปิด PENDING อยู่ (ผลที่ได้จะออกมาเป็น DICT)\n",
        "exchange.fetch_open_orders(pair)"
      ],
      "execution_count": null,
      "outputs": [
        {
          "output_type": "execute_result",
          "data": {
            "text/plain": [
              "[{'amount': 0.0001,\n",
              "  'average': None,\n",
              "  'clientOrderId': None,\n",
              "  'cost': 0.0,\n",
              "  'datetime': '2020-06-15T09:19:29.252Z',\n",
              "  'fee': None,\n",
              "  'filled': 0.0,\n",
              "  'id': '5949078737',\n",
              "  'info': {'avgFillPrice': None,\n",
              "   'clientId': None,\n",
              "   'createdAt': '2020-06-15T09:19:29.252025+00:00',\n",
              "   'filledSize': 0.0,\n",
              "   'future': None,\n",
              "   'id': 5949078737,\n",
              "   'ioc': False,\n",
              "   'liquidation': False,\n",
              "   'market': 'BTC/USD',\n",
              "   'postOnly': False,\n",
              "   'price': 7000.0,\n",
              "   'reduceOnly': False,\n",
              "   'remainingSize': 0.0001,\n",
              "   'side': 'buy',\n",
              "   'size': 0.0001,\n",
              "   'status': 'open',\n",
              "   'type': 'limit'},\n",
              "  'lastTradeTimestamp': None,\n",
              "  'price': 7000.0,\n",
              "  'remaining': 0.0001,\n",
              "  'side': 'buy',\n",
              "  'status': 'open',\n",
              "  'symbol': 'BTC/USD',\n",
              "  'timestamp': 1592212769252,\n",
              "  'trades': None,\n",
              "  'type': 'limit'}]"
            ]
          },
          "metadata": {
            "tags": []
          },
          "execution_count": 30
        }
      ]
    },
    {
      "cell_type": "code",
      "metadata": {
        "id": "BAho3Cds0ec3",
        "colab": {
          "base_uri": "https://localhost:8080/",
          "height": 223
        },
        "outputId": "66dedb49-d2da-41ca-a585-2a7710623e91"
      },
      "source": [
        "# 9.การตรวจเช็คออเดอร์ที่ เปิด PENDING อยู่ (ลบ COLUMN ที่ไม่ได้ใช้ออก และจัดระเบียบใหม่)\n",
        "\n",
        "df2 = pd.DataFrame(exchange.fetch_open_orders(pair),\n",
        "                   columns=['id','datetime','status','symbol','type','side','price','amount','filled','average','remaining'])\n",
        "display(df2)"
      ],
      "execution_count": null,
      "outputs": [
        {
          "output_type": "error",
          "ename": "NameError",
          "evalue": "ignored",
          "traceback": [
            "\u001b[0;31m---------------------------------------------------------------------------\u001b[0m",
            "\u001b[0;31mNameError\u001b[0m                                 Traceback (most recent call last)",
            "\u001b[0;32m<ipython-input-2-dd0b7a5507e0>\u001b[0m in \u001b[0;36m<module>\u001b[0;34m()\u001b[0m\n\u001b[1;32m      1\u001b[0m \u001b[0;31m# 9.การตรวจเช็คออเดอร์ที่ เปิด PENDING อยู่ (ลบ COLUMN ที่ไม่ได้ใช้ออก และจัดระเบียบใหม่)\u001b[0m\u001b[0;34m\u001b[0m\u001b[0;34m\u001b[0m\u001b[0;34m\u001b[0m\u001b[0m\n\u001b[1;32m      2\u001b[0m \u001b[0;34m\u001b[0m\u001b[0m\n\u001b[0;32m----> 3\u001b[0;31m df2 = pd.DataFrame(exchange.fetch_open_orders(pair),\n\u001b[0m\u001b[1;32m      4\u001b[0m                    columns=['id','datetime','status','symbol','type','side','price','amount','filled','average','remaining'])\n\u001b[1;32m      5\u001b[0m \u001b[0mdisplay\u001b[0m\u001b[0;34m(\u001b[0m\u001b[0mdf2\u001b[0m\u001b[0;34m)\u001b[0m\u001b[0;34m\u001b[0m\u001b[0;34m\u001b[0m\u001b[0m\n",
            "\u001b[0;31mNameError\u001b[0m: name 'pd' is not defined"
          ]
        }
      ]
    },
    {
      "cell_type": "code",
      "metadata": {
        "id": "Mwz6f5DJGvXn",
        "colab": {
          "base_uri": "https://localhost:8080/",
          "height": 472
        },
        "outputId": "ba8e7e2b-970d-4d4b-f271-26030765572e"
      },
      "source": [
        "# 11.การตรวจเช็คออเดอร์ที่ MATCH BUY/SELL (ผลที่ได้จะออกมาเป็น DICT)\n",
        "exchange.fetchMyTrades(pair)"
      ],
      "execution_count": null,
      "outputs": [
        {
          "output_type": "execute_result",
          "data": {
            "text/plain": [
              "[{'amount': 0.0001,\n",
              "  'cost': 0.914,\n",
              "  'datetime': '2020-06-15T08:45:44.604Z',\n",
              "  'fee': {'cost': 7e-08, 'currency': 'BTC', 'rate': 0.0007},\n",
              "  'id': '106352727',\n",
              "  'info': {'baseCurrency': 'BTC',\n",
              "   'fee': 7e-08,\n",
              "   'feeCurrency': 'BTC',\n",
              "   'feeRate': 0.0007,\n",
              "   'future': None,\n",
              "   'id': 106352727,\n",
              "   'liquidity': 'taker',\n",
              "   'market': 'BTC/USD',\n",
              "   'orderId': 5948545050,\n",
              "   'price': 9140.0,\n",
              "   'quoteCurrency': 'USD',\n",
              "   'side': 'buy',\n",
              "   'size': 0.0001,\n",
              "   'time': '2020-06-15T08:45:44.604416+00:00',\n",
              "   'tradeId': 52791378,\n",
              "   'type': 'order'},\n",
              "  'order': '5948545050',\n",
              "  'price': 9140.0,\n",
              "  'side': 'buy',\n",
              "  'symbol': 'BTC/USD',\n",
              "  'takerOrMaker': 'taker',\n",
              "  'timestamp': 1592210744604,\n",
              "  'type': None}]"
            ]
          },
          "metadata": {
            "tags": []
          },
          "execution_count": 27
        }
      ]
    },
    {
      "cell_type": "code",
      "metadata": {
        "id": "B8mOfrvX0fyZ",
        "colab": {
          "base_uri": "https://localhost:8080/",
          "height": 76
        },
        "outputId": "98081e23-4afe-4753-f240-d4b44acdda2c"
      },
      "source": [
        "# 11.การตรวจเช็คออเดอร์ที่ MATCH BUY (FILTER ออกมาเป็นตาราง)\n",
        "\n",
        "df4 = pd.DataFrame(filter(lambda x:x['side'] == \"buy\",exchange.fetchMyTrades(pair)),columns=['id','datetime','symbol','side','price','amount'])\n",
        "display(df4)"
      ],
      "execution_count": null,
      "outputs": [
        {
          "output_type": "display_data",
          "data": {
            "text/html": [
              "<div>\n",
              "<style scoped>\n",
              "    .dataframe tbody tr th:only-of-type {\n",
              "        vertical-align: middle;\n",
              "    }\n",
              "\n",
              "    .dataframe tbody tr th {\n",
              "        vertical-align: top;\n",
              "    }\n",
              "\n",
              "    .dataframe thead th {\n",
              "        text-align: right;\n",
              "    }\n",
              "</style>\n",
              "<table border=\"1\" class=\"dataframe\">\n",
              "  <thead>\n",
              "    <tr style=\"text-align: right;\">\n",
              "      <th></th>\n",
              "      <th>id</th>\n",
              "      <th>datetime</th>\n",
              "      <th>symbol</th>\n",
              "      <th>side</th>\n",
              "      <th>price</th>\n",
              "      <th>amount</th>\n",
              "    </tr>\n",
              "  </thead>\n",
              "  <tbody>\n",
              "    <tr>\n",
              "      <th>0</th>\n",
              "      <td>106352727</td>\n",
              "      <td>2020-06-15T08:45:44.604Z</td>\n",
              "      <td>BTC/USD</td>\n",
              "      <td>buy</td>\n",
              "      <td>9140.0</td>\n",
              "      <td>0.0001</td>\n",
              "    </tr>\n",
              "  </tbody>\n",
              "</table>\n",
              "</div>"
            ],
            "text/plain": [
              "          id                  datetime   symbol side   price  amount\n",
              "0  106352727  2020-06-15T08:45:44.604Z  BTC/USD  buy  9140.0  0.0001"
            ]
          },
          "metadata": {
            "tags": []
          }
        }
      ]
    },
    {
      "cell_type": "code",
      "metadata": {
        "id": "5qv0_2efrU7u",
        "colab": {
          "base_uri": "https://localhost:8080/",
          "height": 47
        },
        "outputId": "d226dc8f-acd1-4cc7-cc2e-f0528780cf20"
      },
      "source": [
        "# 11.การตรวจเช็คออเดอร์ที่ MATCH SELL (FILTER ออกมาเป็นตาราง)\n",
        "\n",
        "df5 = pd.DataFrame(filter(lambda x:x['side'] == \"sell\",exchange.fetchMyTrades(pair)),columns=['id','datetime','symbol','side','price','amount'])\n",
        "display(df5)"
      ],
      "execution_count": null,
      "outputs": [
        {
          "output_type": "display_data",
          "data": {
            "text/html": [
              "<div>\n",
              "<style scoped>\n",
              "    .dataframe tbody tr th:only-of-type {\n",
              "        vertical-align: middle;\n",
              "    }\n",
              "\n",
              "    .dataframe tbody tr th {\n",
              "        vertical-align: top;\n",
              "    }\n",
              "\n",
              "    .dataframe thead th {\n",
              "        text-align: right;\n",
              "    }\n",
              "</style>\n",
              "<table border=\"1\" class=\"dataframe\">\n",
              "  <thead>\n",
              "    <tr style=\"text-align: right;\">\n",
              "      <th></th>\n",
              "      <th>id</th>\n",
              "      <th>datetime</th>\n",
              "      <th>symbol</th>\n",
              "      <th>side</th>\n",
              "      <th>price</th>\n",
              "      <th>amount</th>\n",
              "    </tr>\n",
              "  </thead>\n",
              "  <tbody>\n",
              "  </tbody>\n",
              "</table>\n",
              "</div>"
            ],
            "text/plain": [
              "Empty DataFrame\n",
              "Columns: [id, datetime, symbol, side, price, amount]\n",
              "Index: []"
            ]
          },
          "metadata": {
            "tags": []
          }
        }
      ]
    }
  ]
}